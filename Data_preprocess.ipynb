{
 "cells": [
  {
   "cell_type": "code",
   "execution_count": 75,
   "metadata": {
    "collapsed": true
   },
   "outputs": [],
   "source": [
    "import json_lines\n",
    "import numpy as np\n",
    "import html2text\n",
    "import re\n",
    "import pickle"
   ]
  },
  {
   "cell_type": "code",
   "execution_count": 3,
   "metadata": {},
   "outputs": [],
   "source": [
    "# Load data\n",
    "with open('top_articles_200k.jl', 'rb') as f:\n",
    "    data = []\n",
    "    for item in json_lines.reader(f):\n",
    "        data.append(item)"
   ]
  },
  {
   "cell_type": "code",
   "execution_count": 54,
   "metadata": {},
   "outputs": [
    {
     "name": "stdout",
     "output_type": "stream",
     "text": [
      "34559\n",
      "49996\n"
     ]
    }
   ],
   "source": [
    "# get index of triip\n",
    "tripInsideIndex = []\n",
    "tripOutsideIndex = []\n",
    "for i,d in enumerate(data):\n",
    "    if (d['site_category'] == '國內旅遊'):\n",
    "        tripInsideIndex.append(i)\n",
    "    if (d['site_category'] == '國外旅遊'):\n",
    "        tripOutsideIndex.append(i)\n",
    "data = np.array(data)\n",
    "\n",
    "print(len(tripInsideIndex))\n",
    "print(len(tripOutsideIndex))"
   ]
  },
  {
   "cell_type": "code",
   "execution_count": 71,
   "metadata": {
    "collapsed": true
   },
   "outputs": [],
   "source": [
    "def get_text_forTrip(data,tripInsideIndex,tripOutsideIndex):\n",
    "    tripInside = data[tripInsideIndex]\n",
    "    tripOutside = data[tripOutsideIndex]\n",
    "    err_in = []\n",
    "    err_out = []\n",
    "    for i,trip_in in enumerate(tripInside):\n",
    "        html = trip_in['body']\n",
    "        \n",
    "        try:\n",
    "            if (type(html) != list):\n",
    "                tripInside[i]['fix'] =  0\n",
    "                text = html2text.html2text(html)\n",
    "                text_pre = []\n",
    "                for sentence in re.split('\\[]|\\n',text):\n",
    "                    if (sentence != ''):\n",
    "                        if('jpg' in sentence or 'gif' in sentence):\n",
    "                            continue\n",
    "                        else:\n",
    "                            text_pre .append(sentence)\n",
    "                tripInside[i]['body'] =  text_pre\n",
    "                tripInside[i]['fix'] =  1\n",
    "        except:\n",
    "            print('Error',i)\n",
    "            err_in.append(i)\n",
    "            \n",
    "    for i,trip_out in enumerate(tripOutside):\n",
    "        html = trip_out['body']\n",
    "        \n",
    "        try:\n",
    "            if (type(html) != list):\n",
    "                tripOutside[i]['fix'] =  0\n",
    "                text = html2text.html2text(html)\n",
    "                text_pre = []\n",
    "                for sentence in re.split('\\[]|\\n',text):\n",
    "                    if (sentence != ''):\n",
    "                        if('jpg' in sentence or 'gif' in sentence):\n",
    "                            continue\n",
    "                        else:\n",
    "                            text_pre .append(sentence)\n",
    "                tripOutside[i]['body'] =  text_pre\n",
    "                tripOutside[i]['fix'] =  1\n",
    "        except:\n",
    "            print('Error',i)\n",
    "            err_out.append(i)\n",
    "    \n",
    "    return tripInside, tripOutside,err_in,err_out"
   ]
  },
  {
   "cell_type": "code",
   "execution_count": 72,
   "metadata": {},
   "outputs": [
    {
     "name": "stdout",
     "output_type": "stream",
     "text": [
      "Error 692\n",
      "Error 2617\n",
      "Error 4837\n",
      "Error 8554\n",
      "Error 9327\n",
      "Error 9330\n",
      "Error 9342\n",
      "Error 9377\n",
      "Error 17863\n",
      "Error 20694\n",
      "Error 29213\n",
      "Error 31953\n",
      "Error 709\n",
      "Error 1282\n",
      "Error 2403\n",
      "Error 3073\n",
      "Error 3694\n",
      "Error 13767\n",
      "Error 14453\n",
      "Error 15857\n",
      "Error 22228\n",
      "Error 23960\n",
      "Error 28588\n",
      "Error 34722\n",
      "Error 35261\n",
      "Error 38259\n",
      "Error 39118\n",
      "Error 43606\n",
      "Error 45676\n",
      "Error 47269\n",
      "Error 47521\n"
     ]
    }
   ],
   "source": [
    "tripInside, tripOutside = get_text_forTrip(data,tripInsideIndex,tripOutsideIndex)"
   ]
  },
  {
   "cell_type": "code",
   "execution_count": 74,
   "metadata": {
    "collapsed": true
   },
   "outputs": [],
   "source": [
    "with open('tripInside.pkl','wb') as f:\n",
    "    pickle.dump(tripInside,f)\n",
    "with open('tripOutide.pkl','wb') as f:\n",
    "    pickle.dump(tripOutside,f)"
   ]
  },
  {
   "cell_type": "code",
   "execution_count": 76,
   "metadata": {
    "scrolled": false
   },
   "outputs": [
    {
     "data": {
      "text/plain": [
       "{'url': 'http://nasaqr0211.pixnet.net/blog/post/158896056',\n",
       " 'site_category': '國內旅遊',\n",
       " 'custom_category': '玩樂呆丸',\n",
       " 'title': '假日輕旅行~兩天一夜阿里山',\n",
       " 'tags': ['阿里山', '螢火蟲', '嘉義', '奮起湖', '火車', '神木車站', '租車', '沼平車站', '日出'],\n",
       " 'body': ['**阿里山行DAY1**',\n",
       "  '因為豬頭牛的工作不好請假，我們出去玩的時間大部分都在週末，這一次選擇了名聞國際的阿里山!',\n",
       "  '但怕從台北開車來回會塞車而縮減造訪阿里山的時間，我們採取最省時間的做法，搭高鐵到嘉義再租車到阿里山(趁現在還能買高鐵學生票多加利用)',\n",
       "  '早上10點多到嘉義高鐵站!',\n",
       "  '高鐵站的裡面就有好幾租車公司的櫃台，對於我們有租車需求的遊客十分方便呦!',\n",
       "  '不過像這種景點區，木木建議要事先預約，不然現場很難有車',\n",
       "  '我們在出發前做了一下功課，在嘉義的格上租車最受好評，而且豬頭牛用信用卡可以打75折，所以我們就立刻下定囉~',\n",
       "  '跟格上租車的感想:服務好，不會刁難客人，而且最後小笨蛋豬頭牛忘記加油還車，他算我們的油費也比外面便宜很多，我們以後有需求也會再向他們家租車',\n",
       "  '出發前往民宿~嘉義的路好平好好開，再加上如此請朗的藍天白雲，讓我們有回到沖繩的感覺><',\n",
       "  '前往民宿的途中先覓食~高朋滿座的半天岩鵝肉，好吃又便宜，種類也很豐富(大推!',\n",
       "  '半天岩鵝肉點菜方法很特別，除了牆壁上菜單的料理可以向工作人員點，另外採取自助式的，自己去前方長桌上已經做好的一道道美食中選取想要吃的料理，除了魚或肉比較貴的食材，其他一道菜大概$100~150',\n",
       "  '而到這裡一定要先嚐嚐看他們家最有名的鵝肉，鵝肉非常彈牙，有嚼勁，也很夠味，最厲害的是咬下去骨頭會自己跟肉分開，不用為了吐骨頭在那邊啃半天；我最愛的是生菜沙拉，配上他們自己調製的沙拉醬，很想再來一盤，裡面有薯泥、番茄、龍鬚菜、花椰菜、玉米筍、紅黃椒、紫高麗菜，配色豐富，營養健康，好吃又好看；蝦子很新鮮，很好剝，甘甜好吃；而鮭魚很大一塊，比木木的手還大，但木木覺得它還好，沒什麼特別的，滷菜頭',\n",
       "  '--招待的小菜，滷得很入味，而且纖維被滷得很爛，好吃!',\n",
       "  '下午一點多，我們到了阿里山的民宿\"十方意境\"，等民宿兩點開始的一日導覽行程',\n",
       "  '下午行程--奮起湖',\n",
       "  '奮起湖車站還保有日治時代的感覺!',\n",
       "  '車站有旁邊展示日治時代用來在檜木的火車，上面的數字是樹木的乘載重量',\n",
       "  '奮起湖必吃的愛玉冰(愛玉+山粉圓+黑糖冰沙',\n",
       "  '電影\"星空\"的拍攝現場還有超特別的\"烤的楓糖甜甜圈\"，遠遠就聞到香香甜甜~表皮香酥，口感Q軟',\n",
       "  '傍晚老闆帶我們到半山腰的茶園看日落',\n",
       "  '有點起霧可是還是看得到，紅紅的夕陽投射到嘉義的仁義胡',\n",
       "  '晚餐~民宿老闆的手拿菜!',\n",
       "  '每樣菜都超好吃的，味道都很棒，而且不會太鹹',\n",
       "  '熱呼呼的竹筍湯裡面有三種不同的竹筍!',\n",
       "  '微辣蒼蠅頭裡面的肉末、韭菜花、碎皮蛋一起咬下，口感超好又香，木木不知不覺再添了三次',\n",
       "  '山泉水做的豆腐，上面是自己磨的山葵，很夠味，特別又好吃',\n",
       "  '民宿的晚餐好吃到，木木都想去跟廚師拜師學藝了!',\n",
       "  '晚餐過後，民宿老闆帶我們去看台北看不到的\"火金姑\"!',\n",
       "  '我們在黑暗中觀看，而且下過雨後牠們都躲在樹林裡，拍照拍不清楚，就沒有照像了。現在才知道一閃一閃的螢火蟲是為了求偶跟防衛，而我們看到的通常都是公的，因為母的都躲在暗處選老公  ',\n",
       "  '在黑暗中看螢火蟲，要帶著手電筒一開一關，這樣牠才會以為你是同類，對你發出訊號呦!',\n",
       "  '聽說五六月來的話會看到一層一層的螢火蟲牆喔!',\n",
       "  '**阿里山行DAY2**  ',\n",
       "  '扣 扣 扣 4:30am，民宿老闆敲門叫我們起床看日出囉~',\n",
       "  '到阿里山半山腰等待日出，先看到的是早上5:30還高掛天空的月亮!!',\n",
       "  '( 這個時候太陽還沒出來，木木冷到發抖 ><   不過知道以後要多帶外套了',\n",
       "  ' 6:30am太陽緩緩升起',\n",
       "  '(第一次來阿里山的我們非常非常幸運地目睹日出過程!',\n",
       "  '看完日出，出發前往阿里山遊樂區嚕',\n",
       "  '從半山腰的隙頂開一個多小時車，終於到了',\n",
       "  '準備坐八點的游園車到上面的沼平車站',\n",
       "  '車站前面的柳杉，是從日本帶過來種的，又稱日本杉，在日治時期是用來做電線桿的',\n",
       "  '車站的溫度計--17度，真的很冷><   就算夏天來業要帶外套呦!!!',\n",
       "  '從沼平車站前面看到的美景',\n",
       "  '準備從沼平車站走到神木車站嚕!',\n",
       "  '姊妹潭，傳說有一對姊妹愛上同一個男人，姐姐為了成全妹妹而投潭身亡，後來妹妹太難過也跟著跳下去',\n",
       "  '在姊妹潭里看到到各種時期的蝌蚪，沒有腳的、長出兩隻後腿的、長出四隻腿的，最後尾巴消失變成青蛙',\n",
       "  '金豬報喜',\n",
       "  '永結同心，導遊說情侶一起來一定要拍照呦，否則回去會面臨分手困境!',\n",
       "  '我們當然寧可信其有，立馬按下快門囉!',\n",
       "  '全台最高的土地公廟~',\n",
       "  '這座廟是後來的人蓋的，清朝就存在的舊址在後面',\n",
       "  '三代木。第一代的檜木生長了一千五百年之後枯死，經過兩百五十年，第二代樹苗得以在上面存活，藉著枯樹為養分，生長茁莊。三百年後，第二代木經過漫長歲月逐漸根老殼空，再度萌發新苗，即為今日所見的第三代木。',\n",
       "  '邊走邊逛，我們來到了神木車站!',\n",
       "  '可惜原本的神木被雷劈倒，不能感受它的氣勢',\n",
       "  '小火車的紀念車票!',\n",
       "  '最後，我們從神木車站搭小火車到下面的阿里山車站，結束兩天充實的行程!',\n",
       "  '後記:我們剛到\"十方意境民宿\"的時候，其實有點傻眼，因為它，沒有冷氣!!!對於每天在冷氣房中生活的我們實在太痛苦了，但品嘗了民宿的好菜、體驗了老闆規劃的行程後，我們完全改觀了，這是一趟給都市人的療癒旅程，讓我們遠裡城市的紛擾，又深度認識我們美麗的阿里山，在芬多精中愜意地走走停停，不趕時間慢慢地欣賞自然，身心都得到舒緩，也難得的運動到了!',\n",
       "  'P.S.凌晨的阿里山真的很冷，我們睡到一半冷醒，才覺悟為什麼民宿沒有冷氣><',\n",
       "  '推薦第一次去阿里山又不知道怎麼玩或懶的規畫行程的朋友住十方意境民宿，他提供從第一天下午2:00到隔天中午的行程導覽還有三餐，我們住雙人房一個人$1800，我們覺得很划算，而且越多人越便宜呦!',\n",
       "  '民宿資訊',\n",
       "  '電話：05-2586608',\n",
       "  '手機：0988-312177、0915-002177  ',\n",
       "  '地址：嘉義縣番路鄉公興村龍美19-1號'],\n",
       " 'comments': [{'body': '晚安\\r\\n推', 'reply': None}],\n",
       " 'images': ['http://pic.pimg.tw/nasaqr0211/1405300448-820654327_m.jpg',\n",
       "  'http://pic.pimg.tw/nasaqr0211/1405300570-2550901524_m.jpg',\n",
       "  'http://pic.pimg.tw/nasaqr0211/1405415879-1052579819_m.jpg',\n",
       "  'http://pic.pimg.tw/nasaqr0211/1405415885-615999206_m.jpg',\n",
       "  'http://pic.pimg.tw/nasaqr0211/1405415886-3731580750_m.jpg',\n",
       "  'http://pic.pimg.tw/nasaqr0211/1405415892-250524172_m.jpg',\n",
       "  'http://pic.pimg.tw/nasaqr0211/1405415887-1519873678_m.jpg',\n",
       "  'http://pic.pimg.tw/nasaqr0211/1405415894-2504319204_m.jpg',\n",
       "  'http://pic.pimg.tw/nasaqr0211/1405415267-3056637980_m.jpg',\n",
       "  'http://pic.pimg.tw/nasaqr0211/1405862844-661956120_m.jpg',\n",
       "  'http://pic.pimg.tw/nasaqr0211/1405862848-727916976_m.jpg',\n",
       "  'http://pic.pimg.tw/nasaqr0211/1405862852-937242858_m.jpg',\n",
       "  'http://pic.pimg.tw/nasaqr0211/1405862857-2896152828_m.jpg',\n",
       "  'http://pic.pimg.tw/nasaqr0211/1405862863-622620653_m.jpg',\n",
       "  'http://pic.pimg.tw/nasaqr0211/1405862869-1804481541_m.jpg',\n",
       "  'http://pic.pimg.tw/nasaqr0211/1405862876-4089261605_m.jpg',\n",
       "  'http://pic.pimg.tw/nasaqr0211/1405862882-1615880122_m.jpg',\n",
       "  'http://pic.pimg.tw/nasaqr0211/1405862885-2448540500_m.jpg',\n",
       "  'http://pic.pimg.tw/nasaqr0211/1405862891-793846878_m.jpg',\n",
       "  'http://pic.pimg.tw/nasaqr0211/1405862897-3870433997_m.jpg',\n",
       "  'http://pic.pimg.tw/nasaqr0211/1405862903-610598961_m.jpg',\n",
       "  'http://pic.pimg.tw/nasaqr0211/1405862909-4052040062_m.jpg',\n",
       "  'http://pic.pimg.tw/nasaqr0211/1405862915-1203217490_m.jpg',\n",
       "  'http://pic.pimg.tw/nasaqr0211/1405862922-4067163241_m.jpg',\n",
       "  'http://pic.pimg.tw/nasaqr0211/1405862929-1195760813_m.jpg',\n",
       "  'http://pic.pimg.tw/nasaqr0211/1405862935-2857101772_m.jpg',\n",
       "  'http://pic.pimg.tw/nasaqr0211/1405862935-4159169177_m.jpg',\n",
       "  'http://pic.pimg.tw/nasaqr0211/1405862936-406559235_m.jpg'],\n",
       " 'keywords': ['阿里山兩天一夜', '阿里山兩天一夜行程規劃', '阿里山行程規劃'],\n",
       " 'fix': 1}"
      ]
     },
     "execution_count": 76,
     "metadata": {},
     "output_type": "execute_result"
    }
   ],
   "source": [
    "tripInside[0]"
   ]
  },
  {
   "cell_type": "code",
   "execution_count": null,
   "metadata": {
    "collapsed": true
   },
   "outputs": [],
   "source": []
  }
 ],
 "metadata": {
  "kernelspec": {
   "display_name": "Python 3",
   "language": "python",
   "name": "python3"
  },
  "language_info": {
   "codemirror_mode": {
    "name": "ipython",
    "version": 3
   },
   "file_extension": ".py",
   "mimetype": "text/x-python",
   "name": "python",
   "nbconvert_exporter": "python",
   "pygments_lexer": "ipython3",
   "version": "3.6.8"
  }
 },
 "nbformat": 4,
 "nbformat_minor": 2
}
