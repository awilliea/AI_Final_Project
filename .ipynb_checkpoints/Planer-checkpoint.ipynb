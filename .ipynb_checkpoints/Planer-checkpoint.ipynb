{
 "cells": [
  {
   "cell_type": "code",
   "execution_count": 5,
   "metadata": {},
   "outputs": [],
   "source": [
    "from sklearn.cluster import KMeans\n",
    "import numpy as np"
   ]
  },
  {
   "cell_type": "code",
   "execution_count": 4,
   "metadata": {},
   "outputs": [],
   "source": [
    "class TravelPlanner:\n",
    "    def __init__(self):\n",
    "        self.candidateAttractionsQueue = None\n",
    "        self.currentTime = None\n",
    "        \n",
    "    def createCandidateAttractionsQueue(self,chosenAttractions):\n",
    "        '''\n",
    "        return CandidateAttractionsQueue\n",
    "        '''\n",
    "        pass\n",
    "    def plan(user, tripIndex):\n",
    "        '''\n",
    "        void call outputTrip function and use standard output\n",
    "        '''\n",
    "        trip = user.trips[tripIndex]\n",
    "        transportationPreference = user.transportationPreference[tripIndex]\n",
    "        days = trip.days\n",
    "        startTime = trip.startTime\n",
    "        endTime = trip.endTime\n",
    "        chosenAttractions = trip.chosenAttractions\n",
    "        \n",
    "        dayofAttraction = clusterLocation(days,chosenAttractions)\n",
    "        \n",
    "        \n",
    "    def outputTrip(itinerary):\n",
    "        '''\n",
    "        return trip\n",
    "        '''\n",
    "        pass\n",
    "    \n",
    "    def clusterLocation(days,chosenAttractions):\n",
    "        '''\n",
    "        Input: \n",
    "            days: int \n",
    "            chosenAttractions: List of Attraction\n",
    "        Output:\n",
    "            dayofAttraction: List of int\n",
    "        '''\n",
    "        # Get locations\n",
    "        locations = []\n",
    "        for attraction in chosenAttractions:\n",
    "            locations.append(attraction.location)\n",
    "        \n",
    "        # Cluster    \n",
    "        kmeans = KMeans(n_clusters=days, random_state=0).fit(locations)\n",
    "        dayofAttraction = Kmeans.labels_\n",
    "        return dayofAttraction"
   ]
  },
  {
   "cell_type": "code",
   "execution_count": null,
   "metadata": {},
   "outputs": [],
   "source": []
  }
 ],
 "metadata": {
  "kernelspec": {
   "display_name": "Python 3",
   "language": "python",
   "name": "python3"
  },
  "language_info": {
   "codemirror_mode": {
    "name": "ipython",
    "version": 3
   },
   "file_extension": ".py",
   "mimetype": "text/x-python",
   "name": "python",
   "nbconvert_exporter": "python",
   "pygments_lexer": "ipython3",
   "version": "3.6.8"
  }
 },
 "nbformat": 4,
 "nbformat_minor": 2
}
